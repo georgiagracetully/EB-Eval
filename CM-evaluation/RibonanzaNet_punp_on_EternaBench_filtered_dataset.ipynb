{
 "cells": [
  {
   "cell_type": "code",
   "execution_count": 1,
   "metadata": {
    "id": "8FNdkyw5AJxT"
   },
   "outputs": [],
   "source": [
    "import pandas as pd\n",
    "import torch\n",
    "import matplotlib.pyplot as plt\n",
    "import numpy as np\n",
    "import random\n",
    "import ast\n",
    "import os"
   ]
  },
  {
   "cell_type": "markdown",
   "metadata": {
    "id": "jFBa8LevAJxW"
   },
   "source": [
    "# Define Dataset"
   ]
  },
  {
   "cell_type": "code",
   "execution_count": 2,
   "metadata": {
    "id": "O0_rpS0oAJxY"
   },
   "outputs": [],
   "source": [
    "from torch.utils.data import Dataset, DataLoader\n",
    "\n",
    "class RNA2D_Dataset(Dataset):\n",
    "    def __init__(self,data):\n",
    "        self.data=data\n",
    "        self.tokens={nt:i for i,nt in enumerate('ACGT')}\n",
    "\n",
    "    def __len__(self):\n",
    "        return len(self.data)\n",
    "\n",
    "    def __getitem__(self, idx):\n",
    "        sequence=[self.tokens[nt] for nt in self.data.loc[idx,'sequence']]\n",
    "        sequence=np.array(sequence)\n",
    "        sequence=torch.tensor(sequence)\n",
    "\n",
    "        return {'sequence':sequence}"
   ]
  },
  {
   "cell_type": "code",
   "execution_count": 8,
   "metadata": {
    "colab": {
     "base_uri": "https://localhost:8080/"
    },
    "id": "K3YvO6ZgAJxZ",
    "outputId": "6d4ab54f-d028-422e-fbde-49eaed139be6"
   },
   "outputs": [
    {
     "name": "stdout",
     "output_type": "stream",
     "text": [
      "    Dataset        ID        MAPseq                         chemical  \\\n",
      "0  Round 00  769337-1  [tag:RTB000]  [MgCl2:10mM, HEPES:50mM(pH8.0)]   \n",
      "1  Round 00  766907-1  [tag:RTB000]  [MgCl2:10mM, HEPES:50mM(pH8.0)]   \n",
      "2  Round 00  766797-1  [tag:RTB000]  [MgCl2:10mM, HEPES:50mM(pH8.0)]   \n",
      "3  Round 00  766205-1  [tag:RTB000]  [MgCl2:10mM, HEPES:50mM(pH8.0)]   \n",
      "4  Round 00  766144-1  [tag:RTB000]  [MgCl2:10mM, HEPES:50mM(pH8.0)]   \n",
      "\n",
      "          construct                  design_name  \\\n",
      "0  EteRNA Cloud Lab       d+m plots weaker again   \n",
      "1  EteRNA Cloud Lab                Slalom take 1   \n",
      "2  EteRNA Cloud Lab                        ZIG 1   \n",
      "3  EteRNA Cloud Lab                    -9.3 kcal   \n",
      "4  EteRNA Cloud Lab  Nuttier than a Snickers Bar   \n",
      "\n",
      "                                              errors  \\\n",
      "0  [0.3181, 0.42210000000000003, 0.18230000000000...   \n",
      "1  [0.24760000000000001, 0.4136, 0.1527, 0.206500...   \n",
      "2  [0.35000000000000003, 0.4867, 0.22840000000000...   \n",
      "3  [0.3116, 0.41440000000000005, 0.1328, 0.1705, ...   \n",
      "4  [0.4199, 0.6407, 0.32320000000000004, 0.249600...   \n",
      "\n",
      "                                            filename modifier  \\\n",
      "0  ../data/preprocessing/raw_rdats/ETERNA_R00_000...    [1M7]   \n",
      "1  ../data/preprocessing/raw_rdats/ETERNA_R00_000...    [1M7]   \n",
      "2  ../data/preprocessing/raw_rdats/ETERNA_R00_000...    [1M7]   \n",
      "3  ../data/preprocessing/raw_rdats/ETERNA_R00_000...    [1M7]   \n",
      "4  ../data/preprocessing/raw_rdats/ETERNA_R00_000...    [1M7]   \n",
      "\n",
      "   passed_CDHIT_filter  ...              project_name  \\\n",
      "0                 True  ...  Project : Thicker Zigzag   \n",
      "1                 True  ...  Project : Thicker Zigzag   \n",
      "2                 True  ...  Project : Thicker Zigzag   \n",
      "3                 True  ...  Project : Thicker Zigzag   \n",
      "4                 True  ...  Project : Thicker Zigzag   \n",
      "\n",
      "                                          reactivity  \\\n",
      "0  [0.642, 1.4853, 0.16290000000000002, 0.4096, 0...   \n",
      "1  [0.2707, 1.629, 0.1034, 0.29450000000000004, 0...   \n",
      "2  [0.6619, 1.8323, 0.2554, 0.09280000000000001, ...   \n",
      "3  [0.7497, 1.6132, 0.007, 0.1378, 0.198700000000...   \n",
      "4  [0.4491, 1.6991, 0.21910000000000002, 0.0902, ...   \n",
      "\n",
      "                                              seqpos  \\\n",
      "0  [0, 1, 2, 3, 4, 5, 6, 7, 8, 9, 10, 11, 12, 13,...   \n",
      "1  [0, 1, 2, 3, 4, 5, 6, 7, 8, 9, 10, 11, 12, 13,...   \n",
      "2  [0, 1, 2, 3, 4, 5, 6, 7, 8, 9, 10, 11, 12, 13,...   \n",
      "3  [0, 1, 2, 3, 4, 5, 6, 7, 8, 9, 10, 11, 12, 13,...   \n",
      "4  [0, 1, 2, 3, 4, 5, 6, 7, 8, 9, 10, 11, 12, 13,...   \n",
      "\n",
      "                                            sequence signal_to_noise  \\\n",
      "0  GGAAAAAAAAAAAAAAAAAAAAACAAAAAGUGCAUCAUACGAUAAA...    medium:3.227   \n",
      "1  GGAAAAAAAAAAAAAAAAAAAAACAAAAAGCUCGCAGUAGUACGAA...    medium:2.729   \n",
      "2  GGAAAAAAAAAAAAAAAAAAAAACAAAAACGUGCGGCGACUAGGAA...    medium:2.295   \n",
      "3  GGAAAAAAAAAAAAAAAAAAAAACAAAAAUAUCGCCCGAGUAUGAA...    medium:2.934   \n",
      "4  GGAAAAAAAAAAAAAAAAAAAAACAAAAACACUACGGGAUGAGAAA...    medium:1.741   \n",
      "\n",
      "                                           structure   tag temperature  \\\n",
      "0  .............................((((.((((.((((......  None       [24C]   \n",
      "1  .............................((((.((((.((((......  None       [24C]   \n",
      "2  .............................((((.((((.((((......  None       [24C]   \n",
      "3  .............................((((.((((.((((......  None       [24C]   \n",
      "4  .............................((((.((((.((((......  None       [24C]   \n",
      "\n",
      "  EternaScore                                     p_contrafold_2  \n",
      "0        68.0  [0.994519365, 0.9956276113, 0.9978851251, 0.99...  \n",
      "1        84.0  [0.9980833501, 0.9988607768000001, 0.999837834...  \n",
      "2        86.7  [0.9971835425000001, 0.9984183536000001, 1.0, ...  \n",
      "3        76.0  [0.9920517028, 0.9921152270000001, 0.998754798...  \n",
      "4        77.3  [0.993260825, 0.9955823580000001, 0.9996418286...  \n",
      "\n",
      "[5 rows x 21 columns]\n"
     ]
    }
   ],
   "source": [
    "json_file = '../data/eb_data/ChemMappingCalculations/CM_contrafold_2.json.zip'\n",
    "\n",
    "data = pd.read_json(json_file)\n",
    "\n",
    "dataset = RNA2D_Dataset(data)\n",
    "\n",
    "data_reset = data.reset_index(drop=True)\n",
    "\n",
    "#verify reset\n",
    "print(data_reset.head())\n",
    "\n",
    "dataset = RNA2D_Dataset(data_reset)\n"
   ]
  },
  {
   "cell_type": "markdown",
   "metadata": {
    "id": "XXWN2gnkAJxb"
   },
   "source": [
    "# Define Model"
   ]
  },
  {
   "cell_type": "code",
   "execution_count": 9,
   "metadata": {
    "id": "6IwIEuf6AJxc"
   },
   "outputs": [],
   "source": [
    "import sys\n",
    "\n",
    "sys.path.append(os.environ['RNETPATH'])\n",
    "\n",
    "from Network import *\n",
    "import yaml\n",
    "\n",
    "class Config:\n",
    "    def __init__(self, **entries):\n",
    "        self.__dict__.update(entries)\n",
    "        self.entries=entries\n",
    "\n",
    "    def print(self):\n",
    "        print(self.entries)\n",
    "\n",
    "def load_config_from_yaml(file_path):\n",
    "    with open(file_path, 'r') as file:\n",
    "        config = yaml.safe_load(file)\n",
    "    return Config(**config)\n",
    "\n",
    "class finetuned_RibonanzaNet(RibonanzaNet):\n",
    "    def __init__(self, config):\n",
    "        config.dropout=0.3\n",
    "        super(finetuned_RibonanzaNet, self).__init__(config)\n",
    "\n",
    "        self.dropout=nn.Dropout(0.0)\n",
    "        self.ct_predictor=nn.Linear(64,1)\n",
    "\n",
    "    def forward(self,src):\n",
    "\n",
    "        #with torch.no_grad():\n",
    "        _, pairwise_features=self.get_embeddings(src, torch.ones_like(src).long().to(src.device))\n",
    "\n",
    "        pairwise_features=pairwise_features+pairwise_features.permute(0,2,1,3) #symmetrize\n",
    "\n",
    "        output=self.ct_predictor(self.dropout(pairwise_features)) #predict\n",
    "\n",
    "        return output.squeeze(-1)"
   ]
  },
  {
   "cell_type": "code",
   "execution_count": 5,
   "metadata": {
    "colab": {
     "base_uri": "https://localhost:8080/"
    },
    "id": "KqwSy3xzAJxc",
    "outputId": "e3f1a25f-8f86-47db-d704-aa348bce6980"
   },
   "outputs": [
    {
     "name": "stdout",
     "output_type": "stream",
     "text": [
      "constructing 9 ConvTransformerEncoderLayers\n"
     ]
    }
   ],
   "source": [
    "model=finetuned_RibonanzaNet(load_config_from_yaml(os.environ['RNETPATH'] +\"/configs/pairwise.yaml\")).cuda()"
   ]
  },
  {
   "cell_type": "code",
   "execution_count": 6,
   "metadata": {
    "colab": {
     "base_uri": "https://localhost:8080/"
    },
    "id": "6xR_hdI2AJxc",
    "outputId": "4ed698f9-dfc5-4520-9935-585e685f3238"
   },
   "outputs": [
    {
     "data": {
      "text/plain": [
       "<All keys matched successfully>"
      ]
     },
     "execution_count": 6,
     "metadata": {},
     "output_type": "execute_result"
    }
   ],
   "source": [
    "model.load_state_dict(torch.load(os.environ['RNETPATH'] + \"/RibonanzaNet-SS.pt\",map_location='cpu'))"
   ]
  },
  {
   "cell_type": "code",
   "execution_count": 10,
   "metadata": {
    "colab": {
     "base_uri": "https://localhost:8080/"
    },
    "id": "jmf_fCo3lFAR",
    "outputId": "43024bfa-e231-4465-f8e2-d51cc4bc03d7"
   },
   "outputs": [
    {
     "name": "stdout",
     "output_type": "stream",
     "text": [
      "14339\n"
     ]
    }
   ],
   "source": [
    "print(len(dataset))"
   ]
  },
  {
   "cell_type": "markdown",
   "metadata": {
    "id": "G8Vc4nSoAJxd"
   },
   "source": [
    "# Make predictions"
   ]
  },
  {
   "cell_type": "code",
   "execution_count": null,
   "metadata": {
    "execution": {
     "iopub.execute_input": "2024-08-28T18:56:37.109634Z",
     "iopub.status.busy": "2024-08-28T18:56:37.108962Z",
     "iopub.status.idle": "2024-08-28T18:56:43.739851Z",
     "shell.execute_reply": "2024-08-28T18:56:43.738709Z",
     "shell.execute_reply.started": "2024-08-28T18:56:37.109600Z"
    },
    "id": "g359A2R4AJxd"
   },
   "outputs": [],
   "source": [
    "from tqdm import tqdm\n",
    "import torch\n",
    "\n",
    "test_preds = []\n",
    "model.eval()\n",
    "\n",
    "for i in tqdm(range(len(dataset))):\n",
    "    example = dataset[i]\n",
    "    sequence = example['sequence'].cuda().unsqueeze(0)\n",
    "\n",
    "    with torch.no_grad():\n",
    "        test_preds.append(model(sequence).sigmoid().cpu().numpy())\n",
    "\n",
    "\n",
    "\n"
   ]
  },
  {
   "cell_type": "code",
   "execution_count": null,
   "metadata": {
    "id": "nYiItoYSqIhZ"
   },
   "outputs": [],
   "source": [
    "import pickle\n",
    "\n",
    "# Path to save the file\n",
    "save_path = '/content/test_preds_new_external_filtered.pkl'\n",
    "\n",
    "# Save the list of lists to a pickle file\n",
    "with open(save_path, 'wb') as f:\n",
    "    pickle.dump(test_preds, f)\n",
    "\n",
    "print(f\"test_preds saved to {save_path}\")\n"
   ]
  },
  {
   "cell_type": "code",
   "execution_count": null,
   "metadata": {
    "colab": {
     "base_uri": "https://localhost:8080/"
    },
    "id": "UoYIYljwFq11",
    "outputId": "0c5abbcd-bbde-4321-8ff2-6fe1e2ebd131"
   },
   "outputs": [
    {
     "name": "stdout",
     "output_type": "stream",
     "text": [
      "x_dataset_preds loaded from /content/test_preds_all_filtered.pkl\n"
     ]
    }
   ],
   "source": [
    "import pickle\n",
    "\n",
    "# Path to load the file\n",
    "load_path = '/content/test_preds_all_filtered.pkl'\n",
    "\n",
    "# Load the list of lists from the pickle file\n",
    "with open(load_path, 'rb') as f:\n",
    "    x_dataset_preds = pickle.load(f)\n",
    "\n",
    "print(f\"x_dataset_preds loaded from {load_path}\")\n"
   ]
  },
  {
   "cell_type": "code",
   "execution_count": null,
   "metadata": {
    "colab": {
     "base_uri": "https://localhost:8080/",
     "height": 451
    },
    "execution": {
     "iopub.execute_input": "2024-08-28T18:57:55.653134Z",
     "iopub.status.busy": "2024-08-28T18:57:55.652721Z",
     "iopub.status.idle": "2024-08-28T18:57:55.882786Z",
     "shell.execute_reply": "2024-08-28T18:57:55.881852Z",
     "shell.execute_reply.started": "2024-08-28T18:57:55.653102Z"
    },
    "id": "apWPqGojAJxe",
    "outputId": "dd5bb7ca-67d9-4e9e-9a24-fe7420c0872e"
   },
   "outputs": [
    {
     "name": "stdout",
     "output_type": "stream",
     "text": [
      "14339\n"
     ]
    },
    {
     "data": {
      "image/png": "[encoded data removed]",
      "text/plain": [
       "<Figure size 640x480 with 1 Axes>"
      ]
     },
     "metadata": {},
     "output_type": "display_data"
    }
   ],
   "source": [
    "# let's take a look at the predictions\n",
    "import matplotlib.pyplot as plt\n",
    "plt.imshow(x_dataset_preds[0][0])\n",
    "print(len(x_dataset_preds))"
   ]
  },
  {
   "cell_type": "markdown",
   "metadata": {
    "id": "sqMM_wTPKEel"
   },
   "source": [
    "### Convert bpp matrices to punp vectors."
   ]
  },
  {
   "cell_type": "code",
   "execution_count": null,
   "metadata": {
    "colab": {
     "base_uri": "https://localhost:8080/"
    },
    "id": "bvB7CuqYG5yy",
    "outputId": "856df679-96c6-4209-ca01-5248127475d8"
   },
   "outputs": [
    {
     "name": "stdout",
     "output_type": "stream",
     "text": [
      "107\n"
     ]
    },
    {
     "data": {
      "text/plain": [
       "14339"
      ]
     },
     "execution_count": 116,
     "metadata": {},
     "output_type": "execute_result"
    }
   ],
   "source": [
    "bpp_vector_list = []\n",
    "for i in range(len(x_dataset_preds)):\n",
    "    bpp_vector_list.append(1-np.sum((x_dataset_preds[i][0]), axis=0))\n",
    "\n",
    "print(len(bpp_vector_list[0]))\n",
    "len(bpp_vector_list)"
   ]
  },
  {
   "cell_type": "markdown",
   "metadata": {
    "id": "7xM6bokS-xFo"
   },
   "source": [
    "I truncated the punp vectors to len (79) and then save a .json file that has 'Dataset', 'filename', 'reactivity', and 'p_RibonanzaNet' columns. The 'Dataset' , 'reactivity', and 'filename' values are the same as in input dataframe stored under \"data_reset\". The 'p_RibonanzaNet' values are from the truncated bpp_vector_list. Both the 'reactivity' and bpp_vectors are trimmed to be a length of 79 values."
   ]
  },
  {
   "cell_type": "code",
   "execution_count": null,
   "metadata": {
    "id": "h4RSMVBlazpt"
   },
   "outputs": [],
   "source": [
    "assert len(data_reset) == len(bpp_vector_list)"
   ]
  },
  {
   "cell_type": "code",
   "execution_count": null,
   "metadata": {
    "colab": {
     "base_uri": "https://localhost:8080/"
    },
    "id": "rWHVCmSWmkeH",
    "outputId": "f0f4cc06-f6f3-49a0-dd84-9fd920e3a87c"
   },
   "outputs": [
    {
     "data": {
      "text/plain": [
       "103"
      ]
     },
     "execution_count": 118,
     "metadata": {},
     "output_type": "execute_result"
    }
   ],
   "source": [
    "len(bpp_vector_list[1])\n",
    "len(data_reset.iloc[12090]['reactivity'])"
   ]
  },
  {
   "cell_type": "code",
   "execution_count": null,
   "metadata": {
    "colab": {
     "base_uri": "https://localhost:8080/"
    },
    "id": "f-5rWgKskd9C",
    "outputId": "13f378cb-d2c3-423a-e584-e1fe9856cf03"
   },
   "outputs": [
    {
     "data": {
      "text/plain": [
       "131"
      ]
     },
     "execution_count": 121,
     "metadata": {},
     "output_type": "execute_result"
    }
   ],
   "source": [
    "data_reset['p_RibonanzaNet'] = bpp_vector_list\n",
    "len(data_reset.iloc[12090]['p_RibonanzaNet'])"
   ]
  },
  {
   "cell_type": "code",
   "execution_count": null,
   "metadata": {
    "id": "Yc-iu9C5olzN"
   },
   "outputs": [],
   "source": [
    "data_reset.head()"
   ]
  },
  {
   "cell_type": "code",
   "execution_count": null,
   "metadata": {
    "id": "oJ9QaRFwpi06"
   },
   "outputs": [],
   "source": [
    "df = data_reset"
   ]
  },
  {
   "cell_type": "code",
   "execution_count": null,
   "metadata": {
    "id": "R5yx0u1Uvzb0"
   },
   "outputs": [],
   "source": [
    "import pandas as pd\n",
    "\n",
    "def trim_vectors(df, col1, col2):\n",
    "    for index, row in df.iterrows():\n",
    "        len_col1 = len(row[col1])\n",
    "        len_col2 = len(row[col2])\n",
    "\n",
    "        if len_col1 != len_col2:\n",
    "            # Find the minimum length\n",
    "            min_len = min(len_col1, len_col2)\n",
    "\n",
    "            # Trim both columns to the minimum length\n",
    "            df.at[index, col1] = row[col1][:min_len]\n",
    "            df.at[index, col2] = row[col2][:min_len]\n",
    "\n",
    "    return df\n",
    "\n",
    "df = trim_vectors(df, 'reactivity', 'p_RibonanzaNet')\n"
   ]
  },
  {
   "cell_type": "code",
   "execution_count": null,
   "metadata": {
    "id": "bLuuFuwI0u0Z"
   },
   "outputs": [],
   "source": [
    "df.to_json('/content/CM_RibonanzaNet.json.zip', orient = 'records')"
   ]
  },
  {
   "cell_type": "markdown",
   "metadata": {
    "id": "hx5LWdPaFWAq"
   },
   "source": [
    "## Next Steps \n",
    "* Zip the .json file above, and then add to the /ChemMappingCalculations directory in the cloned EternaBench repository.\n",
    "* Run the ScoreChemMapping.py script in the EternaBench/scripts directory, and specify # of BOOTSTRAPS . (default n=10)\n",
    "* Once you have the _BOOTSTRAPS.json.zip file, you can use the CompileBootstrappedResults.py python script to get a table of zscores for each package. "
   ]
  }
 ],
 "metadata": {
  "accelerator": "GPU",
  "colab": {
   "gpuType": "T4",
   "provenance": []
  },
  "kaggle": {
   "accelerator": "gpu",
   "dataSources": [
    {
     "datasetId": 4278124,
     "sourceId": 7364321,
     "sourceType": "datasetVersion"
    },
    {
     "datasetId": 4278078,
     "sourceId": 7633917,
     "sourceType": "datasetVersion"
    },
    {
     "datasetId": 4299272,
     "sourceId": 7639698,
     "sourceType": "datasetVersion"
    },
    {
     "datasetId": 4299302,
     "sourceId": 7649407,
     "sourceType": "datasetVersion"
    },
    {
     "datasetId": 4459124,
     "sourceId": 8318191,
     "sourceType": "datasetVersion"
    },
    {
     "datasetId": 5571224,
     "sourceId": 9213562,
     "sourceType": "datasetVersion"
    },
    {
     "datasetId": 5598993,
     "sourceId": 9254397,
     "sourceType": "datasetVersion"
    }
   ],
   "dockerImageVersionId": 30627,
   "isGpuEnabled": true,
   "isInternetEnabled": true,
   "language": "python",
   "sourceType": "notebook"
  },
  "kernelspec": {
   "display_name": "Python 3 (ipykernel)",
   "language": "python",
   "name": "python3"
  },
  "language_info": {
   "codemirror_mode": {
    "name": "ipython",
    "version": 3
   },
   "file_extension": ".py",
   "mimetype": "text/x-python",
   "name": "python",
   "nbconvert_exporter": "python",
   "pygments_lexer": "ipython3",
   "version": "3.9.6"
  }
 },
 "nbformat": 4,
 "nbformat_minor": 4
}
