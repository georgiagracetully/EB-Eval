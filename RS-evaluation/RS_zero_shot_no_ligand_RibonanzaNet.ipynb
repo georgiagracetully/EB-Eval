{
 "cells": [
  {
   "cell_type": "code",
   "execution_count": 1,
   "metadata": {
    "id": "8FNdkyw5AJxT"
   },
   "outputs": [],
   "source": [
    "import pandas as pd\n",
    "import torch\n",
    "import matplotlib.pyplot as plt\n",
    "import numpy as np\n",
    "import random\n",
    "import ast\n",
    "import os\n",
    "import json\n",
    "import math\n"
   ]
  },
  {
   "cell_type": "markdown",
   "metadata": {
    "id": "jFBa8LevAJxW"
   },
   "source": [
    "# Define Dataset"
   ]
  },
  {
   "cell_type": "code",
   "execution_count": 2,
   "metadata": {
    "id": "O0_rpS0oAJxY"
   },
   "outputs": [],
   "source": [
    "from torch.utils.data import Dataset, DataLoader\n",
    "\n",
    "class RNA2D_Dataset(Dataset):\n",
    "    def __init__(self,data):\n",
    "        self.data=data\n",
    "        self.tokens={nt:i for i,nt in enumerate('ACGU')}\n",
    "\n",
    "    def __len__(self):\n",
    "        return len(self.data)\n",
    "\n",
    "    def __getitem__(self, idx):\n",
    "        sequence=[self.tokens[nt] for nt in self.data.loc[idx,'sequence']]\n",
    "        sequence=np.array(sequence)\n",
    "        sequence=torch.tensor(sequence)\n",
    "\n",
    "        return {'sequence':sequence}"
   ]
  },
  {
   "cell_type": "code",
   "execution_count": 5,
   "metadata": {
    "colab": {
     "base_uri": "https://localhost:8080/"
    },
    "id": "K3YvO6ZgAJxZ",
    "outputId": "a604aa35-d3de-4413-80bc-8a6af6b53b74"
   },
   "outputs": [
    {
     "name": "stdout",
     "output_type": "stream",
     "text": [
      "7228\n"
     ]
    }
   ],
   "source": [
    "json_file = '../data/eb_data/EternaBench_Riboswitch_Filtered_23May2022.json.zip'\n",
    "\n",
    "data = pd.read_json(json_file)\n",
    "\n",
    "dataset = RNA2D_Dataset(data)\n",
    "print(len(dataset))\n",
    "#print(data.head())"
   ]
  },
  {
   "cell_type": "markdown",
   "metadata": {
    "id": "XXWN2gnkAJxb"
   },
   "source": [
    "# Define Model"
   ]
  },
  {
   "cell_type": "code",
   "execution_count": 6,
   "metadata": {
    "id": "6IwIEuf6AJxc"
   },
   "outputs": [],
   "source": [
    "import sys\n",
    "\n",
    "sys.path.append(os.environ['RNETPATH'])\n",
    "\n",
    "from Network import *\n",
    "import yaml\n",
    "\n",
    "class Config:\n",
    "    def __init__(self, **entries):\n",
    "        self.__dict__.update(entries)\n",
    "        self.entries=entries\n",
    "\n",
    "    def print(self):\n",
    "        print(self.entries)\n",
    "\n",
    "def load_config_from_yaml(file_path):\n",
    "    with open(file_path, 'r') as file:\n",
    "        config = yaml.safe_load(file)\n",
    "    return Config(**config)\n",
    "\n",
    "class finetuned_RibonanzaNet(RibonanzaNet):\n",
    "    def __init__(self, config):\n",
    "        config.dropout=0.3\n",
    "        super(finetuned_RibonanzaNet, self).__init__(config)\n",
    "\n",
    "        self.dropout=nn.Dropout(0.0)\n",
    "        self.ct_predictor=nn.Linear(64,1)\n",
    "\n",
    "    def forward(self,src):\n",
    "\n",
    "        #with torch.no_grad():\n",
    "        _, pairwise_features=self.get_embeddings(src, torch.ones_like(src).long().to(src.device))\n",
    "\n",
    "        pairwise_features=pairwise_features+pairwise_features.permute(0,2,1,3) #symmetrize\n",
    "\n",
    "        output=self.ct_predictor(self.dropout(pairwise_features)) #predict\n",
    "\n",
    "        return output.squeeze(-1)"
   ]
  },
  {
   "cell_type": "code",
   "execution_count": 7,
   "metadata": {
    "colab": {
     "base_uri": "https://localhost:8080/"
    },
    "id": "KqwSy3xzAJxc",
    "outputId": "ade5665a-9d0f-4b99-89e4-97fb38f4d4c8"
   },
   "outputs": [
    {
     "name": "stdout",
     "output_type": "stream",
     "text": [
      "constructing 9 ConvTransformerEncoderLayers\n"
     ]
    }
   ],
   "source": [
    "model=finetuned_RibonanzaNet(load_config_from_yaml(os.environ['RNETPATH'] +\"/configs/pairwise.yaml\"))"
   ]
  },
  {
   "cell_type": "code",
   "execution_count": 8,
   "metadata": {
    "colab": {
     "base_uri": "https://localhost:8080/"
    },
    "id": "6xR_hdI2AJxc",
    "outputId": "b999963e-9f8e-4697-d0d0-9695d47706d7"
   },
   "outputs": [
    {
     "data": {
      "text/plain": [
       "<All keys matched successfully>"
      ]
     },
     "execution_count": 8,
     "metadata": {},
     "output_type": "execute_result"
    }
   ],
   "source": [
    "model.load_state_dict(torch.load(os.environ['RNETPATH']+\"/RibonanzaNet-SS.pt\",map_location='cpu'))"
   ]
  },
  {
   "cell_type": "code",
   "execution_count": 9,
   "metadata": {
    "colab": {
     "base_uri": "https://localhost:8080/"
    },
    "id": "jmf_fCo3lFAR",
    "outputId": "7e7cb1a8-e4ed-4c1f-d6a6-92505f389a44"
   },
   "outputs": [
    {
     "name": "stdout",
     "output_type": "stream",
     "text": [
      "7228\n"
     ]
    }
   ],
   "source": [
    "print(len(dataset))"
   ]
  },
  {
   "cell_type": "code",
   "execution_count": 10,
   "metadata": {
    "colab": {
     "base_uri": "https://localhost:8080/"
    },
    "id": "IhyiCIMFVUZe",
    "outputId": "f9e8c489-1300-430f-e214-973fc19afc43"
   },
   "outputs": [
    {
     "data": {
      "text/plain": [
       "{'sequence': tensor([1, 2, 0, 3, 1, 1, 3, 3, 2, 1, 0, 2, 0, 0, 2, 2, 0, 1, 3, 0, 0, 0, 0, 1,\n",
       "         1, 0, 0, 0, 3, 0, 1, 1, 0, 2, 3, 0, 2, 2, 0, 3, 0, 3, 2, 1, 0, 0, 1, 0,\n",
       "         3, 2, 0, 2, 2, 0, 3, 1, 0, 1, 1, 1, 0, 3, 2, 3, 2, 0, 1, 2, 0, 0, 2, 2,\n",
       "         0, 3, 2, 1, 2, 2, 2, 0, 0, 0, 3, 0])}"
      ]
     },
     "execution_count": 10,
     "metadata": {},
     "output_type": "execute_result"
    }
   ],
   "source": [
    "dataset[0]"
   ]
  },
  {
   "cell_type": "markdown",
   "metadata": {
    "id": "G8Vc4nSoAJxd"
   },
   "source": [
    "# Make predictions"
   ]
  },
  {
   "cell_type": "code",
   "execution_count": null,
   "metadata": {
    "colab": {
     "base_uri": "https://localhost:8080/"
    },
    "execution": {
     "iopub.execute_input": "2024-08-28T18:56:37.109634Z",
     "iopub.status.busy": "2024-08-28T18:56:37.108962Z",
     "iopub.status.idle": "2024-08-28T18:56:43.739851Z",
     "shell.execute_reply": "2024-08-28T18:56:43.738709Z",
     "shell.execute_reply.started": "2024-08-28T18:56:37.109600Z"
    },
    "id": "g359A2R4AJxd",
    "outputId": "46469bdc-86c1-4366-ba23-573e13ee9836"
   },
   "outputs": [
    {
     "name": "stderr",
     "output_type": "stream",
     "text": [
      "\r",
      "  0%|          | 0/7228 [00:00<?, ?it/s]/usr/local/lib/python3.10/dist-packages/torch/_dynamo/eval_frame.py:600: UserWarning: torch.utils.checkpoint: the use_reentrant parameter should be passed explicitly. In version 2.4 we will raise an exception if use_reentrant is not passed. use_reentrant=False is recommended, but if you need to preserve the current default behavior, you can pass use_reentrant=True. Refer to docs for more details on the differences between the two variants.\n",
      "  return fn(*args, **kwargs)\n",
      "/usr/local/lib/python3.10/dist-packages/torch/utils/checkpoint.py:92: UserWarning: None of the inputs have requires_grad=True. Gradients will be None\n",
      "  warnings.warn(\n",
      "100%|██████████| 7228/7228 [04:59<00:00, 24.12it/s]\n"
     ]
    }
   ],
   "source": [
    "from tqdm import tqdm\n",
    "\n",
    "test_preds = []\n",
    "model.eval()\n",
    "\n",
    "for i in tqdm(range(len(dataset))):\n",
    "    # Access the item correctly for a PyTorch Dataset\n",
    "    example = dataset[i]\n",
    "    sequence = example['sequence'].cuda().unsqueeze(0)\n",
    "\n",
    "    with torch.no_grad():\n",
    "        test_preds.append(model(sequence).sigmoid().cpu().numpy())\n"
   ]
  },
  {
   "cell_type": "code",
   "execution_count": null,
   "metadata": {
    "colab": {
     "base_uri": "https://localhost:8080/"
    },
    "id": "Rut3GL58EY9B",
    "outputId": "f767ddb3-b408-4e0b-81fb-95a4638f4a14"
   },
   "outputs": [
    {
     "name": "stdout",
     "output_type": "stream",
     "text": [
      "[[[4.1844929e-14 1.2397073e-13 5.9657405e-12 ... 1.2358697e-07\n",
      "   2.3134473e-06 3.5345243e-04]\n",
      "  [1.2397073e-13 3.1295902e-14 1.6928443e-13 ... 1.1316718e-06\n",
      "   8.8668712e-06 9.0036490e-05]\n",
      "  [5.9657405e-12 1.6928443e-13 3.4381660e-14 ... 3.1597931e-08\n",
      "   5.3474598e-09 2.6101196e-08]\n",
      "  ...\n",
      "  [1.2358697e-07 1.1316718e-06 3.1597931e-08 ... 8.9895903e-16\n",
      "   1.2191494e-17 6.4701230e-15]\n",
      "  [2.3134473e-06 8.8668712e-06 5.3474598e-09 ... 1.2191494e-17\n",
      "   2.7062180e-15 7.4790934e-15]\n",
      "  [3.5345243e-04 9.0036490e-05 2.6101196e-08 ... 6.4701230e-15\n",
      "   7.4790934e-15 1.2615207e-17]]]\n"
     ]
    }
   ],
   "source": [
    "print(test_preds[0])"
   ]
  },
  {
   "cell_type": "code",
   "execution_count": null,
   "metadata": {
    "colab": {
     "base_uri": "https://localhost:8080/"
    },
    "id": "nYiItoYSqIhZ",
    "outputId": "ced9bcbd-8096-40fc-da18-f95120f2645b"
   },
   "outputs": [
    {
     "name": "stdout",
     "output_type": "stream",
     "text": [
      "test_preds saved to /content/RibonanzaNet_Riboswitch_preds_all_filtered.pkl\n"
     ]
    }
   ],
   "source": [
    "import pickle\n",
    "\n",
    "# Path to save the file\n",
    "save_path = '/RibonanzaNet_Riboswitch_preds_all_filtered.pkl'\n",
    "\n",
    "# Save the list of lists to a pickle file\n",
    "with open(save_path, 'wb') as f:\n",
    "    pickle.dump(test_preds, f)\n",
    "\n",
    "print(f\"test_preds saved to {save_path}\")\n"
   ]
  },
  {
   "cell_type": "code",
   "execution_count": null,
   "metadata": {
    "colab": {
     "base_uri": "https://localhost:8080/"
    },
    "id": "UoYIYljwFq11",
    "outputId": "c582a863-42da-4ef4-a31a-c2cb78c8feed"
   },
   "outputs": [
    {
     "name": "stdout",
     "output_type": "stream",
     "text": [
      "test_preds loaded from /content/RibonanzaNet_Riboswitch_preds_all_filtered.pkl\n"
     ]
    }
   ],
   "source": [
    "\n",
    "\n",
    "# Path to load the file\n",
    "load_path = '/RibonanzaNet_Riboswitch_preds_all_filtered.pkl'\n",
    "\n",
    "# Load the list of lists from the pickle file\n",
    "with open(load_path, 'rb') as f:\n",
    "    test_preds = pickle.load(f)\n",
    "\n",
    "print(f\"test_preds loaded from {load_path}\")\n"
   ]
  },
  {
   "cell_type": "code",
   "execution_count": null,
   "metadata": {
    "colab": {
     "base_uri": "https://localhost:8080/",
     "height": 450
    },
    "execution": {
     "iopub.execute_input": "2024-08-28T18:57:55.653134Z",
     "iopub.status.busy": "2024-08-28T18:57:55.652721Z",
     "iopub.status.idle": "2024-08-28T18:57:55.882786Z",
     "shell.execute_reply": "2024-08-28T18:57:55.881852Z",
     "shell.execute_reply.started": "2024-08-28T18:57:55.653102Z"
    },
    "id": "apWPqGojAJxe",
    "outputId": "d8f9fb6e-0166-4ed2-8ba5-134d6a81a1d6"
   },
   "outputs": [
    {
     "name": "stdout",
     "output_type": "stream",
     "text": [
      "7228\n"
     ]
    },
    {
     "data": {
      "image/png": "[encoded data removed]",
      "text/plain": [
       "<Figure size 640x480 with 1 Axes>"
      ]
     },
     "metadata": {},
     "output_type": "display_data"
    }
   ],
   "source": [
    "# let's take a look at the predictions\n",
    "\n",
    "plt.imshow(test_preds[1][0])\n",
    "print(len(test_preds))"
   ]
  },
  {
   "cell_type": "markdown",
   "metadata": {
    "id": "Zy3K38LRM9KQ"
   },
   "source": [
    "### Use base pair matrices to compute theoretical KD by extracting the coordinate associated with the terminal ms2 hairpin."
   ]
  },
  {
   "cell_type": "markdown",
   "metadata": {
    "id": "bSBHa4ZcNkck"
   },
   "source": [
    "### Need to first grab the bpp matrix coordinate from the RibonanzaNet prediction of the MS2 aptamer. \n"
   ]
  },
  {
   "cell_type": "code",
   "execution_count": 12,
   "metadata": {
    "id": "3DfxJGjZM8TJ"
   },
   "outputs": [
    {
     "name": "stdout",
     "output_type": "stream",
     "text": [
      "          sequence_name                                           sequence\n",
      "0    ms2apt_no_flanking                                ACAUGAGGAUCACCCAUGU\n",
      "1  ms2apt_with_flanking  GGGUAUGUCGCAGAAACAUGAGGAUCACCCAUGUAACUGCGACAUACCC\n"
     ]
    }
   ],
   "source": [
    "ms2_apt_file = 'ms2apt_sequence.csv'\n",
    "ms2_apt_data = pd.read_csv(ms2_apt_file)\n",
    "ms2_apt_dataset = RNA2D_Dataset(ms2_apt_data)\n",
    "print(ms2_apt_data)"
   ]
  },
  {
   "cell_type": "code",
   "execution_count": null,
   "metadata": {
    "colab": {
     "base_uri": "https://localhost:8080/"
    },
    "id": "LRw5zhHeO0Zm",
    "outputId": "5c786c0d-50a5-4bb3-cdb2-4c8532bf15c0"
   },
   "outputs": [
    {
     "name": "stderr",
     "output_type": "stream",
     "text": [
      "\r",
      "  0%|          | 0/2 [00:00<?, ?it/s]/usr/local/lib/python3.10/dist-packages/torch/_dynamo/eval_frame.py:600: UserWarning: torch.utils.checkpoint: the use_reentrant parameter should be passed explicitly. In version 2.4 we will raise an exception if use_reentrant is not passed. use_reentrant=False is recommended, but if you need to preserve the current default behavior, you can pass use_reentrant=True. Refer to docs for more details on the differences between the two variants.\n",
      "  return fn(*args, **kwargs)\n",
      "/usr/local/lib/python3.10/dist-packages/torch/utils/checkpoint.py:92: UserWarning: None of the inputs have requires_grad=True. Gradients will be None\n",
      "  warnings.warn(\n",
      "100%|██████████| 2/2 [00:00<00:00,  4.83it/s]\n"
     ]
    }
   ],
   "source": [
    "from tqdm import tqdm\n",
    "import torch\n",
    "\n",
    "ms2_apt_preds = []\n",
    "model.eval()\n",
    "\n",
    "for i in tqdm(range(len(ms2_apt_data))):\n",
    "    # Access the item correctly for a PyTorch Dataset\n",
    "    example = ms2_apt_dataset[i]\n",
    "    sequence = example['sequence'].unsqueeze(0)\n",
    "\n",
    "    with torch.no_grad():\n",
    "        ms2_apt_preds.append(model(sequence).sigmoid().cpu().numpy())"
   ]
  },
  {
   "cell_type": "code",
   "execution_count": null,
   "metadata": {
    "id": "RqbqBC8FPgIK"
   },
   "outputs": [],
   "source": [
    "EPSILON = 1e-13\n",
    "\n",
    "#compute P(ref) without flanking sequences for RibonanzaNet\n",
    "def compute_bp_kfold_ref():\n",
    "\treturn ms2_apt_preds[0][0][0][-1]+EPSILON\n",
    "\n",
    "def compute_bp_kfold_ref_with_flanking():\n",
    "    return ms2_apt_preds[0][0][15][-16]+EPSILON"
   ]
  },
  {
   "cell_type": "code",
   "execution_count": null,
   "metadata": {
    "colab": {
     "base_uri": "https://localhost:8080/"
    },
    "id": "PjvO5pPVQTZv",
    "outputId": "9dc2a7d4-1854-425a-b4aa-43f0ad9bf840"
   },
   "outputs": [
    {
     "data": {
      "text/plain": [
       "0.9921637773514794"
      ]
     },
     "execution_count": 53,
     "metadata": {},
     "output_type": "execute_result"
    }
   ],
   "source": [
    "compute_bp_kfold_ref()"
   ]
  },
  {
   "cell_type": "code",
   "execution_count": null,
   "metadata": {
    "colab": {
     "base_uri": "https://localhost:8080/"
    },
    "id": "Yu-1BOrCQZIH",
    "outputId": "9a575c3b-dd82-4faa-f064-38ff4233484c"
   },
   "outputs": [
    {
     "data": {
      "text/plain": [
       "0.9990835189820336"
      ]
     },
     "execution_count": 32,
     "metadata": {},
     "output_type": "execute_result"
    }
   ],
   "source": [
    "compute_bp_kfold_ref_with_flanking()"
   ]
  },
  {
   "cell_type": "markdown",
   "metadata": {
    "id": "2_drpV0UyeVS"
   },
   "source": [
    "## Checking code to make sure MS2_aptamer is found correctly"
   ]
  },
  {
   "cell_type": "code",
   "execution_count": 13,
   "metadata": {
    "colab": {
     "base_uri": "https://localhost:8080/",
     "height": 87
    },
    "id": "Sz8b3l6neRnp",
    "outputId": "9bf84742-a040-47ec-fe80-56f4496cc217"
   },
   "outputs": [
    {
     "name": "stdout",
     "output_type": "stream",
     "text": [
      "AAUCAACUUAGAGGAUAUAAGCUUAAAAUAGGGUUAGAAGGCUAUGGUACUAAUGAUCCGUCAACAUGAGGAUCACCCAUGUAG\n",
      "63\n",
      "81\n"
     ]
    },
    {
     "data": {
      "text/plain": [
       "'U'"
      ]
     },
     "execution_count": 13,
     "metadata": {},
     "output_type": "execute_result"
    }
   ],
   "source": [
    "ms2_aptamer = \"ACAUGAGGAUCACCCAUGU\"\n",
    "example = data.iloc[3]['sequence']\n",
    "first_a_index = example.find(ms2_aptamer) + ms2_aptamer.find('A')\n",
    "last_u_index = example.find(ms2_aptamer) + ms2_aptamer.rfind('U')\n",
    "print(example)\n",
    "print(first_a_index)\n",
    "print(last_u_index)\n",
    "len(example)\n",
    "example[63]\n",
    "example[81]"
   ]
  },
  {
   "cell_type": "code",
   "execution_count": null,
   "metadata": {
    "id": "ZiOA3Q7pYdLB"
   },
   "outputs": [],
   "source": [
    "# Define the MS2 aptamer sequence and reference p_ref value\n",
    "ms2_aptamer = \"ACAUGAGGAUCACCCAUGU\"\n",
    "p_ref = compute_bp_kfold_ref()  # Harcoded into the function, is the ms2_apt_preds (defined above) \n",
    "\n",
    "# List to store the computed p_est and K_s values\n",
    "p_est_list = []\n",
    "\n",
    "def extract_p_est_from_bpp(bpp_matrix, ms2_start_idx, ms2_end_idx):\n",
    "    p_est = bpp_matrix[ms2_start_idx, ms2_end_idx] + EPSILON  # Extract the base pairing probability\n",
    "    return p_est\n",
    "\n",
    "# Iterate over the sequences and extract the p_est values\n",
    "for i, sequence in enumerate(data['sequence']):\n",
    "    first_a_index = sequence.find(ms2_aptamer) + ms2_aptamer.find('A')\n",
    "    last_u_index = sequence.find(ms2_aptamer) + ms2_aptamer.rfind('U')\n",
    "\n",
    "    # Ensure the MS2 aptamer was found\n",
    "    if first_a_index == -1 or last_u_index == -1:\n",
    "        print(f\"MS2 aptamer not found in sequence {i}\")\n",
    "        p_est_list.append(None)\n",
    "        continue\n",
    "\n",
    "    try:\n",
    "        bpp_matrix = test_preds[i][0]  # Get the bpp matrix for the current sequence\n",
    "\n",
    "        # Extract p_est value using the modified MS2 aptamer sequence\n",
    "        p_est = extract_p_est_from_bpp(bpp_matrix, first_a_index, last_u_index)\n",
    "        p_est_list.append(p_est)\n",
    "\n",
    "    except IndexError as e:\n",
    "        print(f\"IndexError for sequence {i}: {str(e)}\")\n",
    "        p_est_list.append(None)  # Append None or a default value if an error occurs\n",
    "\n",
    "\n",
    "# Compute K_s for each sequence\n",
    "ks_list = [p_ref / p_est for p_est in p_est_list]\n",
    "\n",
    "# Compute the logarithm of K_s for each sequence\n",
    "log_kfold_est_RibonanzaNet = [math.log(ks) for ks in ks_list]\n",
    "\n",
    "# Add the new column to the DataFrame\n",
    "data['log_kfold_est_RibonanzaNet'] = log_kfold_est_RibonanzaNet\n",
    "\n",
    "# Convert the DataFrame to a dictionary\n",
    "data_dict = data.to_dict(orient='list')\n",
    "\n",
    "# Save the updated data to a new JSON file\n",
    "with open('RS_RibonanzaNet_bps.json', 'w') as f:\n",
    "    json.dump(data_dict, f, indent=4)\n"
   ]
  },
  {
   "cell_type": "markdown",
   "metadata": {
    "id": "NBECzQLfy0ZE"
   },
   "source": [
    "Now add RS_RibonanzaNet_bps.json file to eternabench directory, and run ScoreRiboswitches.py script. Then, run CompileBOOTSTRAPSs.py script for all bps.json files. I did this and uploaded results.\n"
   ]
  }
 ],
 "metadata": {
  "colab": {
   "provenance": []
  },
  "kaggle": {
   "accelerator": "gpu",
   "dataSources": [
    {
     "datasetId": 4278124,
     "sourceId": 7364321,
     "sourceType": "datasetVersion"
    },
    {
     "datasetId": 4278078,
     "sourceId": 7633917,
     "sourceType": "datasetVersion"
    },
    {
     "datasetId": 4299272,
     "sourceId": 7639698,
     "sourceType": "datasetVersion"
    },
    {
     "datasetId": 4299302,
     "sourceId": 7649407,
     "sourceType": "datasetVersion"
    },
    {
     "datasetId": 4459124,
     "sourceId": 8318191,
     "sourceType": "datasetVersion"
    },
    {
     "datasetId": 5571224,
     "sourceId": 9213562,
     "sourceType": "datasetVersion"
    },
    {
     "datasetId": 5598993,
     "sourceId": 9254397,
     "sourceType": "datasetVersion"
    }
   ],
   "dockerImageVersionId": 30627,
   "isGpuEnabled": true,
   "isInternetEnabled": true,
   "language": "python",
   "sourceType": "notebook"
  },
  "kernelspec": {
   "display_name": "Python 3 (ipykernel)",
   "language": "python",
   "name": "python3"
  },
  "language_info": {
   "codemirror_mode": {
    "name": "ipython",
    "version": 3
   },
   "file_extension": ".py",
   "mimetype": "text/x-python",
   "name": "python",
   "nbconvert_exporter": "python",
   "pygments_lexer": "ipython3",
   "version": "3.9.6"
  }
 },
 "nbformat": 4,
 "nbformat_minor": 4
}
